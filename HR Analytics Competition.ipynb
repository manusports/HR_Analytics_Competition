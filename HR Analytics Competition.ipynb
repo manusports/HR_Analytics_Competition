{
 "cells": [
  {
   "cell_type": "markdown",
   "id": "db78e0ed",
   "metadata": {},
   "source": [
    "# HR Analytics Challenge"
   ]
  },
  {
   "cell_type": "markdown",
   "id": "8215e1f1",
   "metadata": {},
   "source": [
    "## Importing libraries"
   ]
  },
  {
   "cell_type": "code",
   "execution_count": 1,
   "id": "11768a42",
   "metadata": {},
   "outputs": [],
   "source": [
    "import pandas as pd\n",
    "import numpy as np\n",
    "import matplotlib.pyplot as plt\n",
    "import seaborn as sn\n",
    "from collections import Counter\n",
    "from sklearn.neighbors import KNeighborsClassifier\n",
    "from sklearn import metrics\n",
    "import warnings\n",
    "warnings.filterwarnings('ignore')"
   ]
  },
  {
   "cell_type": "markdown",
   "id": "b19e7a3c",
   "metadata": {},
   "source": [
    "#### Reading data"
   ]
  },
  {
   "cell_type": "code",
   "execution_count": 2,
   "id": "ac3e43de",
   "metadata": {},
   "outputs": [],
   "source": [
    "data= pd.read_csv(r'Desktop\\HR_Analytics_Vidhya_Comp\\train.csv')\n",
    "test= pd.read_csv(r'Desktop\\HR_Analytics_Vidhya_Comp\\test.csv')"
   ]
  },
  {
   "cell_type": "markdown",
   "id": "44048250",
   "metadata": {},
   "source": [
    "## Checking the dataset"
   ]
  },
  {
   "cell_type": "code",
   "execution_count": 3,
   "id": "c2c01dbb",
   "metadata": {},
   "outputs": [
    {
     "data": {
      "text/html": [
       "<div>\n",
       "<style scoped>\n",
       "    .dataframe tbody tr th:only-of-type {\n",
       "        vertical-align: middle;\n",
       "    }\n",
       "\n",
       "    .dataframe tbody tr th {\n",
       "        vertical-align: top;\n",
       "    }\n",
       "\n",
       "    .dataframe thead th {\n",
       "        text-align: right;\n",
       "    }\n",
       "</style>\n",
       "<table border=\"1\" class=\"dataframe\">\n",
       "  <thead>\n",
       "    <tr style=\"text-align: right;\">\n",
       "      <th></th>\n",
       "      <th>employee_id</th>\n",
       "      <th>department</th>\n",
       "      <th>region</th>\n",
       "      <th>education</th>\n",
       "      <th>gender</th>\n",
       "      <th>recruitment_channel</th>\n",
       "      <th>no_of_trainings</th>\n",
       "      <th>age</th>\n",
       "      <th>previous_year_rating</th>\n",
       "      <th>length_of_service</th>\n",
       "      <th>KPIs_met &gt;80%</th>\n",
       "      <th>awards_won?</th>\n",
       "      <th>avg_training_score</th>\n",
       "      <th>is_promoted</th>\n",
       "    </tr>\n",
       "  </thead>\n",
       "  <tbody>\n",
       "    <tr>\n",
       "      <th>0</th>\n",
       "      <td>65438</td>\n",
       "      <td>Sales &amp; Marketing</td>\n",
       "      <td>region_7</td>\n",
       "      <td>Master's &amp; above</td>\n",
       "      <td>f</td>\n",
       "      <td>sourcing</td>\n",
       "      <td>1</td>\n",
       "      <td>35</td>\n",
       "      <td>5.0</td>\n",
       "      <td>8</td>\n",
       "      <td>1</td>\n",
       "      <td>0</td>\n",
       "      <td>49</td>\n",
       "      <td>0</td>\n",
       "    </tr>\n",
       "    <tr>\n",
       "      <th>1</th>\n",
       "      <td>65141</td>\n",
       "      <td>Operations</td>\n",
       "      <td>region_22</td>\n",
       "      <td>Bachelor's</td>\n",
       "      <td>m</td>\n",
       "      <td>other</td>\n",
       "      <td>1</td>\n",
       "      <td>30</td>\n",
       "      <td>5.0</td>\n",
       "      <td>4</td>\n",
       "      <td>0</td>\n",
       "      <td>0</td>\n",
       "      <td>60</td>\n",
       "      <td>0</td>\n",
       "    </tr>\n",
       "    <tr>\n",
       "      <th>2</th>\n",
       "      <td>7513</td>\n",
       "      <td>Sales &amp; Marketing</td>\n",
       "      <td>region_19</td>\n",
       "      <td>Bachelor's</td>\n",
       "      <td>m</td>\n",
       "      <td>sourcing</td>\n",
       "      <td>1</td>\n",
       "      <td>34</td>\n",
       "      <td>3.0</td>\n",
       "      <td>7</td>\n",
       "      <td>0</td>\n",
       "      <td>0</td>\n",
       "      <td>50</td>\n",
       "      <td>0</td>\n",
       "    </tr>\n",
       "    <tr>\n",
       "      <th>3</th>\n",
       "      <td>2542</td>\n",
       "      <td>Sales &amp; Marketing</td>\n",
       "      <td>region_23</td>\n",
       "      <td>Bachelor's</td>\n",
       "      <td>m</td>\n",
       "      <td>other</td>\n",
       "      <td>2</td>\n",
       "      <td>39</td>\n",
       "      <td>1.0</td>\n",
       "      <td>10</td>\n",
       "      <td>0</td>\n",
       "      <td>0</td>\n",
       "      <td>50</td>\n",
       "      <td>0</td>\n",
       "    </tr>\n",
       "    <tr>\n",
       "      <th>4</th>\n",
       "      <td>48945</td>\n",
       "      <td>Technology</td>\n",
       "      <td>region_26</td>\n",
       "      <td>Bachelor's</td>\n",
       "      <td>m</td>\n",
       "      <td>other</td>\n",
       "      <td>1</td>\n",
       "      <td>45</td>\n",
       "      <td>3.0</td>\n",
       "      <td>2</td>\n",
       "      <td>0</td>\n",
       "      <td>0</td>\n",
       "      <td>73</td>\n",
       "      <td>0</td>\n",
       "    </tr>\n",
       "  </tbody>\n",
       "</table>\n",
       "</div>"
      ],
      "text/plain": [
       "   employee_id         department     region         education gender  \\\n",
       "0        65438  Sales & Marketing   region_7  Master's & above      f   \n",
       "1        65141         Operations  region_22        Bachelor's      m   \n",
       "2         7513  Sales & Marketing  region_19        Bachelor's      m   \n",
       "3         2542  Sales & Marketing  region_23        Bachelor's      m   \n",
       "4        48945         Technology  region_26        Bachelor's      m   \n",
       "\n",
       "  recruitment_channel  no_of_trainings  age  previous_year_rating  \\\n",
       "0            sourcing                1   35                   5.0   \n",
       "1               other                1   30                   5.0   \n",
       "2            sourcing                1   34                   3.0   \n",
       "3               other                2   39                   1.0   \n",
       "4               other                1   45                   3.0   \n",
       "\n",
       "   length_of_service  KPIs_met >80%  awards_won?  avg_training_score  \\\n",
       "0                  8              1            0                  49   \n",
       "1                  4              0            0                  60   \n",
       "2                  7              0            0                  50   \n",
       "3                 10              0            0                  50   \n",
       "4                  2              0            0                  73   \n",
       "\n",
       "   is_promoted  \n",
       "0            0  \n",
       "1            0  \n",
       "2            0  \n",
       "3            0  \n",
       "4            0  "
      ]
     },
     "execution_count": 3,
     "metadata": {},
     "output_type": "execute_result"
    }
   ],
   "source": [
    "data.head()"
   ]
  },
  {
   "cell_type": "code",
   "execution_count": 4,
   "id": "49e69b57",
   "metadata": {},
   "outputs": [
    {
     "data": {
      "text/html": [
       "<div>\n",
       "<style scoped>\n",
       "    .dataframe tbody tr th:only-of-type {\n",
       "        vertical-align: middle;\n",
       "    }\n",
       "\n",
       "    .dataframe tbody tr th {\n",
       "        vertical-align: top;\n",
       "    }\n",
       "\n",
       "    .dataframe thead th {\n",
       "        text-align: right;\n",
       "    }\n",
       "</style>\n",
       "<table border=\"1\" class=\"dataframe\">\n",
       "  <thead>\n",
       "    <tr style=\"text-align: right;\">\n",
       "      <th></th>\n",
       "      <th>employee_id</th>\n",
       "      <th>department</th>\n",
       "      <th>region</th>\n",
       "      <th>education</th>\n",
       "      <th>gender</th>\n",
       "      <th>recruitment_channel</th>\n",
       "      <th>no_of_trainings</th>\n",
       "      <th>age</th>\n",
       "      <th>previous_year_rating</th>\n",
       "      <th>length_of_service</th>\n",
       "      <th>KPIs_met &gt;80%</th>\n",
       "      <th>awards_won?</th>\n",
       "      <th>avg_training_score</th>\n",
       "    </tr>\n",
       "  </thead>\n",
       "  <tbody>\n",
       "    <tr>\n",
       "      <th>0</th>\n",
       "      <td>8724</td>\n",
       "      <td>Technology</td>\n",
       "      <td>region_26</td>\n",
       "      <td>Bachelor's</td>\n",
       "      <td>m</td>\n",
       "      <td>sourcing</td>\n",
       "      <td>1</td>\n",
       "      <td>24</td>\n",
       "      <td>NaN</td>\n",
       "      <td>1</td>\n",
       "      <td>1</td>\n",
       "      <td>0</td>\n",
       "      <td>77</td>\n",
       "    </tr>\n",
       "    <tr>\n",
       "      <th>1</th>\n",
       "      <td>74430</td>\n",
       "      <td>HR</td>\n",
       "      <td>region_4</td>\n",
       "      <td>Bachelor's</td>\n",
       "      <td>f</td>\n",
       "      <td>other</td>\n",
       "      <td>1</td>\n",
       "      <td>31</td>\n",
       "      <td>3.0</td>\n",
       "      <td>5</td>\n",
       "      <td>0</td>\n",
       "      <td>0</td>\n",
       "      <td>51</td>\n",
       "    </tr>\n",
       "    <tr>\n",
       "      <th>2</th>\n",
       "      <td>72255</td>\n",
       "      <td>Sales &amp; Marketing</td>\n",
       "      <td>region_13</td>\n",
       "      <td>Bachelor's</td>\n",
       "      <td>m</td>\n",
       "      <td>other</td>\n",
       "      <td>1</td>\n",
       "      <td>31</td>\n",
       "      <td>1.0</td>\n",
       "      <td>4</td>\n",
       "      <td>0</td>\n",
       "      <td>0</td>\n",
       "      <td>47</td>\n",
       "    </tr>\n",
       "    <tr>\n",
       "      <th>3</th>\n",
       "      <td>38562</td>\n",
       "      <td>Procurement</td>\n",
       "      <td>region_2</td>\n",
       "      <td>Bachelor's</td>\n",
       "      <td>f</td>\n",
       "      <td>other</td>\n",
       "      <td>3</td>\n",
       "      <td>31</td>\n",
       "      <td>2.0</td>\n",
       "      <td>9</td>\n",
       "      <td>0</td>\n",
       "      <td>0</td>\n",
       "      <td>65</td>\n",
       "    </tr>\n",
       "    <tr>\n",
       "      <th>4</th>\n",
       "      <td>64486</td>\n",
       "      <td>Finance</td>\n",
       "      <td>region_29</td>\n",
       "      <td>Bachelor's</td>\n",
       "      <td>m</td>\n",
       "      <td>sourcing</td>\n",
       "      <td>1</td>\n",
       "      <td>30</td>\n",
       "      <td>4.0</td>\n",
       "      <td>7</td>\n",
       "      <td>0</td>\n",
       "      <td>0</td>\n",
       "      <td>61</td>\n",
       "    </tr>\n",
       "  </tbody>\n",
       "</table>\n",
       "</div>"
      ],
      "text/plain": [
       "   employee_id         department     region   education gender  \\\n",
       "0         8724         Technology  region_26  Bachelor's      m   \n",
       "1        74430                 HR   region_4  Bachelor's      f   \n",
       "2        72255  Sales & Marketing  region_13  Bachelor's      m   \n",
       "3        38562        Procurement   region_2  Bachelor's      f   \n",
       "4        64486            Finance  region_29  Bachelor's      m   \n",
       "\n",
       "  recruitment_channel  no_of_trainings  age  previous_year_rating  \\\n",
       "0            sourcing                1   24                   NaN   \n",
       "1               other                1   31                   3.0   \n",
       "2               other                1   31                   1.0   \n",
       "3               other                3   31                   2.0   \n",
       "4            sourcing                1   30                   4.0   \n",
       "\n",
       "   length_of_service  KPIs_met >80%  awards_won?  avg_training_score  \n",
       "0                  1              1            0                  77  \n",
       "1                  5              0            0                  51  \n",
       "2                  4              0            0                  47  \n",
       "3                  9              0            0                  65  \n",
       "4                  7              0            0                  61  "
      ]
     },
     "execution_count": 4,
     "metadata": {},
     "output_type": "execute_result"
    }
   ],
   "source": [
    "test.head()"
   ]
  },
  {
   "cell_type": "code",
   "execution_count": 5,
   "id": "be995270",
   "metadata": {},
   "outputs": [
    {
     "data": {
      "text/plain": [
       "0    50140\n",
       "1     4668\n",
       "Name: is_promoted, dtype: int64"
      ]
     },
     "execution_count": 5,
     "metadata": {},
     "output_type": "execute_result"
    }
   ],
   "source": [
    "data['is_promoted'].value_counts()"
   ]
  },
  {
   "cell_type": "code",
   "execution_count": 6,
   "id": "b0ce1967",
   "metadata": {},
   "outputs": [
    {
     "name": "stdout",
     "output_type": "stream",
     "text": [
      "The Test data shape: (23490, 13)\n",
      "The Train data shape: (54808, 14)\n"
     ]
    }
   ],
   "source": [
    "print ('The Test data shape:', test.shape)\n",
    "print ('The Train data shape:', data.shape)"
   ]
  },
  {
   "cell_type": "code",
   "execution_count": 7,
   "id": "2117db5f",
   "metadata": {},
   "outputs": [
    {
     "data": {
      "text/plain": [
       "employee_id                0\n",
       "department                 0\n",
       "region                     0\n",
       "education               2409\n",
       "gender                     0\n",
       "recruitment_channel        0\n",
       "no_of_trainings            0\n",
       "age                        0\n",
       "previous_year_rating    4124\n",
       "length_of_service          0\n",
       "KPIs_met >80%              0\n",
       "awards_won?                0\n",
       "avg_training_score         0\n",
       "is_promoted                0\n",
       "dtype: int64"
      ]
     },
     "execution_count": 7,
     "metadata": {},
     "output_type": "execute_result"
    }
   ],
   "source": [
    "data.isnull().sum()"
   ]
  },
  {
   "cell_type": "code",
   "execution_count": 8,
   "id": "0d3b11bf",
   "metadata": {},
   "outputs": [
    {
     "data": {
      "text/html": [
       "<style  type=\"text/css\" >\n",
       "#T_ec742_row0_col0,#T_ec742_row0_col1,#T_ec742_row0_col2,#T_ec742_row0_col3,#T_ec742_row1_col0,#T_ec742_row1_col1,#T_ec742_row1_col2,#T_ec742_row1_col3,#T_ec742_row2_col0,#T_ec742_row2_col1,#T_ec742_row2_col2,#T_ec742_row2_col3,#T_ec742_row3_col0,#T_ec742_row3_col1,#T_ec742_row3_col2,#T_ec742_row3_col3,#T_ec742_row4_col0,#T_ec742_row4_col1,#T_ec742_row4_col2,#T_ec742_row4_col3,#T_ec742_row6_col0,#T_ec742_row6_col1,#T_ec742_row6_col2,#T_ec742_row6_col3,#T_ec742_row7_col0,#T_ec742_row7_col1,#T_ec742_row7_col2,#T_ec742_row7_col3,#T_ec742_row8_col0,#T_ec742_row8_col1,#T_ec742_row8_col2,#T_ec742_row8_col3,#T_ec742_row9_col0,#T_ec742_row9_col1,#T_ec742_row9_col2,#T_ec742_row9_col3,#T_ec742_row10_col0,#T_ec742_row10_col1,#T_ec742_row10_col2,#T_ec742_row10_col3,#T_ec742_row12_col0,#T_ec742_row12_col1,#T_ec742_row12_col2,#T_ec742_row12_col3,#T_ec742_row13_col0,#T_ec742_row13_col1,#T_ec742_row13_col2,#T_ec742_row13_col3{\n",
       "            background-color:  #000000;\n",
       "            color:  #f1f1f1;\n",
       "        }#T_ec742_row5_col0,#T_ec742_row5_col1{\n",
       "            background-color:  #b8744a;\n",
       "            color:  #000000;\n",
       "        }#T_ec742_row5_col2,#T_ec742_row5_col3{\n",
       "            background-color:  #b47249;\n",
       "            color:  #000000;\n",
       "        }#T_ec742_row11_col0,#T_ec742_row11_col1,#T_ec742_row11_col2,#T_ec742_row11_col3{\n",
       "            background-color:  #ffc77f;\n",
       "            color:  #000000;\n",
       "        }</style><table id=\"T_ec742_\" ><thead>    <tr>        <th class=\"blank level0\" ></th>        <th class=\"col_heading level0 col0\" >Train_Total</th>        <th class=\"col_heading level0 col1\" >Train_Percent %</th>        <th class=\"col_heading level0 col2\" >Test_Total</th>        <th class=\"col_heading level0 col3\" >Test_Percent %</th>    </tr></thead><tbody>\n",
       "                <tr>\n",
       "                        <th id=\"T_ec742_level0_row0\" class=\"row_heading level0 row0\" >KPIs_met >80%</th>\n",
       "                        <td id=\"T_ec742_row0_col0\" class=\"data row0 col0\" >0</td>\n",
       "                        <td id=\"T_ec742_row0_col1\" class=\"data row0 col1\" >0.000000</td>\n",
       "                        <td id=\"T_ec742_row0_col2\" class=\"data row0 col2\" >0.000000</td>\n",
       "                        <td id=\"T_ec742_row0_col3\" class=\"data row0 col3\" >0.000000</td>\n",
       "            </tr>\n",
       "            <tr>\n",
       "                        <th id=\"T_ec742_level0_row1\" class=\"row_heading level0 row1\" >age</th>\n",
       "                        <td id=\"T_ec742_row1_col0\" class=\"data row1 col0\" >0</td>\n",
       "                        <td id=\"T_ec742_row1_col1\" class=\"data row1 col1\" >0.000000</td>\n",
       "                        <td id=\"T_ec742_row1_col2\" class=\"data row1 col2\" >0.000000</td>\n",
       "                        <td id=\"T_ec742_row1_col3\" class=\"data row1 col3\" >0.000000</td>\n",
       "            </tr>\n",
       "            <tr>\n",
       "                        <th id=\"T_ec742_level0_row2\" class=\"row_heading level0 row2\" >avg_training_score</th>\n",
       "                        <td id=\"T_ec742_row2_col0\" class=\"data row2 col0\" >0</td>\n",
       "                        <td id=\"T_ec742_row2_col1\" class=\"data row2 col1\" >0.000000</td>\n",
       "                        <td id=\"T_ec742_row2_col2\" class=\"data row2 col2\" >0.000000</td>\n",
       "                        <td id=\"T_ec742_row2_col3\" class=\"data row2 col3\" >0.000000</td>\n",
       "            </tr>\n",
       "            <tr>\n",
       "                        <th id=\"T_ec742_level0_row3\" class=\"row_heading level0 row3\" >awards_won?</th>\n",
       "                        <td id=\"T_ec742_row3_col0\" class=\"data row3 col0\" >0</td>\n",
       "                        <td id=\"T_ec742_row3_col1\" class=\"data row3 col1\" >0.000000</td>\n",
       "                        <td id=\"T_ec742_row3_col2\" class=\"data row3 col2\" >0.000000</td>\n",
       "                        <td id=\"T_ec742_row3_col3\" class=\"data row3 col3\" >0.000000</td>\n",
       "            </tr>\n",
       "            <tr>\n",
       "                        <th id=\"T_ec742_level0_row4\" class=\"row_heading level0 row4\" >department</th>\n",
       "                        <td id=\"T_ec742_row4_col0\" class=\"data row4 col0\" >0</td>\n",
       "                        <td id=\"T_ec742_row4_col1\" class=\"data row4 col1\" >0.000000</td>\n",
       "                        <td id=\"T_ec742_row4_col2\" class=\"data row4 col2\" >0.000000</td>\n",
       "                        <td id=\"T_ec742_row4_col3\" class=\"data row4 col3\" >0.000000</td>\n",
       "            </tr>\n",
       "            <tr>\n",
       "                        <th id=\"T_ec742_level0_row5\" class=\"row_heading level0 row5\" >education</th>\n",
       "                        <td id=\"T_ec742_row5_col0\" class=\"data row5 col0\" >2409</td>\n",
       "                        <td id=\"T_ec742_row5_col1\" class=\"data row5 col1\" >4.400000</td>\n",
       "                        <td id=\"T_ec742_row5_col2\" class=\"data row5 col2\" >1034.000000</td>\n",
       "                        <td id=\"T_ec742_row5_col3\" class=\"data row5 col3\" >4.400000</td>\n",
       "            </tr>\n",
       "            <tr>\n",
       "                        <th id=\"T_ec742_level0_row6\" class=\"row_heading level0 row6\" >employee_id</th>\n",
       "                        <td id=\"T_ec742_row6_col0\" class=\"data row6 col0\" >0</td>\n",
       "                        <td id=\"T_ec742_row6_col1\" class=\"data row6 col1\" >0.000000</td>\n",
       "                        <td id=\"T_ec742_row6_col2\" class=\"data row6 col2\" >0.000000</td>\n",
       "                        <td id=\"T_ec742_row6_col3\" class=\"data row6 col3\" >0.000000</td>\n",
       "            </tr>\n",
       "            <tr>\n",
       "                        <th id=\"T_ec742_level0_row7\" class=\"row_heading level0 row7\" >gender</th>\n",
       "                        <td id=\"T_ec742_row7_col0\" class=\"data row7 col0\" >0</td>\n",
       "                        <td id=\"T_ec742_row7_col1\" class=\"data row7 col1\" >0.000000</td>\n",
       "                        <td id=\"T_ec742_row7_col2\" class=\"data row7 col2\" >0.000000</td>\n",
       "                        <td id=\"T_ec742_row7_col3\" class=\"data row7 col3\" >0.000000</td>\n",
       "            </tr>\n",
       "            <tr>\n",
       "                        <th id=\"T_ec742_level0_row8\" class=\"row_heading level0 row8\" >is_promoted</th>\n",
       "                        <td id=\"T_ec742_row8_col0\" class=\"data row8 col0\" >0</td>\n",
       "                        <td id=\"T_ec742_row8_col1\" class=\"data row8 col1\" >0.000000</td>\n",
       "                        <td id=\"T_ec742_row8_col2\" class=\"data row8 col2\" >nan</td>\n",
       "                        <td id=\"T_ec742_row8_col3\" class=\"data row8 col3\" >nan</td>\n",
       "            </tr>\n",
       "            <tr>\n",
       "                        <th id=\"T_ec742_level0_row9\" class=\"row_heading level0 row9\" >length_of_service</th>\n",
       "                        <td id=\"T_ec742_row9_col0\" class=\"data row9 col0\" >0</td>\n",
       "                        <td id=\"T_ec742_row9_col1\" class=\"data row9 col1\" >0.000000</td>\n",
       "                        <td id=\"T_ec742_row9_col2\" class=\"data row9 col2\" >0.000000</td>\n",
       "                        <td id=\"T_ec742_row9_col3\" class=\"data row9 col3\" >0.000000</td>\n",
       "            </tr>\n",
       "            <tr>\n",
       "                        <th id=\"T_ec742_level0_row10\" class=\"row_heading level0 row10\" >no_of_trainings</th>\n",
       "                        <td id=\"T_ec742_row10_col0\" class=\"data row10 col0\" >0</td>\n",
       "                        <td id=\"T_ec742_row10_col1\" class=\"data row10 col1\" >0.000000</td>\n",
       "                        <td id=\"T_ec742_row10_col2\" class=\"data row10 col2\" >0.000000</td>\n",
       "                        <td id=\"T_ec742_row10_col3\" class=\"data row10 col3\" >0.000000</td>\n",
       "            </tr>\n",
       "            <tr>\n",
       "                        <th id=\"T_ec742_level0_row11\" class=\"row_heading level0 row11\" >previous_year_rating</th>\n",
       "                        <td id=\"T_ec742_row11_col0\" class=\"data row11 col0\" >4124</td>\n",
       "                        <td id=\"T_ec742_row11_col1\" class=\"data row11 col1\" >7.520000</td>\n",
       "                        <td id=\"T_ec742_row11_col2\" class=\"data row11 col2\" >1812.000000</td>\n",
       "                        <td id=\"T_ec742_row11_col3\" class=\"data row11 col3\" >7.710000</td>\n",
       "            </tr>\n",
       "            <tr>\n",
       "                        <th id=\"T_ec742_level0_row12\" class=\"row_heading level0 row12\" >recruitment_channel</th>\n",
       "                        <td id=\"T_ec742_row12_col0\" class=\"data row12 col0\" >0</td>\n",
       "                        <td id=\"T_ec742_row12_col1\" class=\"data row12 col1\" >0.000000</td>\n",
       "                        <td id=\"T_ec742_row12_col2\" class=\"data row12 col2\" >0.000000</td>\n",
       "                        <td id=\"T_ec742_row12_col3\" class=\"data row12 col3\" >0.000000</td>\n",
       "            </tr>\n",
       "            <tr>\n",
       "                        <th id=\"T_ec742_level0_row13\" class=\"row_heading level0 row13\" >region</th>\n",
       "                        <td id=\"T_ec742_row13_col0\" class=\"data row13 col0\" >0</td>\n",
       "                        <td id=\"T_ec742_row13_col1\" class=\"data row13 col1\" >0.000000</td>\n",
       "                        <td id=\"T_ec742_row13_col2\" class=\"data row13 col2\" >0.000000</td>\n",
       "                        <td id=\"T_ec742_row13_col3\" class=\"data row13 col3\" >0.000000</td>\n",
       "            </tr>\n",
       "    </tbody></table>"
      ],
      "text/plain": [
       "<pandas.io.formats.style.Styler at 0x1f13891b4c0>"
      ]
     },
     "execution_count": 8,
     "metadata": {},
     "output_type": "execute_result"
    }
   ],
   "source": [
    "train_total = data.isnull().sum()\n",
    "train_percent = ((data.isnull().sum()/data.shape[0])*100).round(2)\n",
    "test_total = test.isnull().sum()\n",
    "test_percent = ((test.isnull().sum()/test.shape[0])*100).round(2)\n",
    "train_missing_data = pd.concat([train_total, train_percent, test_total, test_percent],\n",
    "                                axis=1, \n",
    "                                keys=['Train_Total', 'Train_Percent %','Test_Total', 'Test_Percent %'],\n",
    "                                sort = True)\n",
    "train_missing_data.style.background_gradient(cmap = 'copper')"
   ]
  },
  {
   "cell_type": "code",
   "execution_count": 9,
   "id": "d176f135",
   "metadata": {},
   "outputs": [],
   "source": [
    "data['education']= data['education'].fillna(data['education'].mode()[0])\n",
    "data['previous_year_rating']= data['previous_year_rating'].fillna(data['previous_year_rating'].mode()[0])"
   ]
  },
  {
   "cell_type": "code",
   "execution_count": 10,
   "id": "b4969df0",
   "metadata": {},
   "outputs": [],
   "source": [
    "test['education']= test['education'].fillna(test['education'].mode()[0])\n",
    "test['previous_year_rating']= test['previous_year_rating'].fillna(test['previous_year_rating'].mode()[0])"
   ]
  },
  {
   "cell_type": "code",
   "execution_count": 11,
   "id": "83b143c8",
   "metadata": {},
   "outputs": [
    {
     "name": "stdout",
     "output_type": "stream",
     "text": [
      "Number of Missing Values Left in the Training Data : 0\n",
      "Number of Missing Values Left in the Test Data : 0\n"
     ]
    }
   ],
   "source": [
    "print(\"Number of Missing Values Left in the Training Data :\", data.isnull().sum().sum())\n",
    "print(\"Number of Missing Values Left in the Test Data :\", test.isnull().sum().sum())"
   ]
  },
  {
   "cell_type": "code",
   "execution_count": 12,
   "id": "e027cefb",
   "metadata": {},
   "outputs": [],
   "source": [
    "data1= data.copy()\n",
    "test1= test.copy()"
   ]
  },
  {
   "cell_type": "markdown",
   "id": "4d51a73e",
   "metadata": {},
   "source": [
    "#### Creating a Metric of Sum\n"
   ]
  },
  {
   "cell_type": "code",
   "execution_count": 13,
   "id": "0b25276e",
   "metadata": {},
   "outputs": [],
   "source": [
    "data1['sum_metric'] = data1['awards_won?']+ data1['KPIs_met >80%'] + data1['previous_year_rating']\n",
    "test1['sum_metric'] = test1['awards_won?']+test1['KPIs_met >80%'] + test1['previous_year_rating']"
   ]
  },
  {
   "cell_type": "markdown",
   "id": "3002f486",
   "metadata": {},
   "source": [
    "####  Creating a total score column"
   ]
  },
  {
   "cell_type": "code",
   "execution_count": 14,
   "id": "b3166138",
   "metadata": {},
   "outputs": [],
   "source": [
    "data1['total_score'] = data1['avg_training_score'] * data1['no_of_trainings']\n",
    "test1['total_score'] = test1['avg_training_score'] * test1['no_of_trainings']"
   ]
  },
  {
   "cell_type": "code",
   "execution_count": 15,
   "id": "1f7b4755",
   "metadata": {},
   "outputs": [],
   "source": [
    "data1 = data1.drop(['recruitment_channel', 'region', 'employee_id'], axis = 1)\n",
    "test1 = test1.drop(['recruitment_channel', 'region', 'employee_id'], axis = 1)"
   ]
  },
  {
   "cell_type": "markdown",
   "id": "2be7fcbc",
   "metadata": {},
   "source": [
    "#### Converting education to Ordinal data"
   ]
  },
  {
   "cell_type": "code",
   "execution_count": 16,
   "id": "53ede576",
   "metadata": {},
   "outputs": [],
   "source": [
    "data1['education'] = data1['education'].replace((\"Master's & above\", \"Bachelor's\", \"Below Secondary\"),(3, 2, 1))\n",
    "test1['education'] = test1['education'].replace((\"Master's & above\", \"Bachelor's\", \"Below Secondary\"),(3, 2, 1))"
   ]
  },
  {
   "cell_type": "markdown",
   "id": "a59a948c",
   "metadata": {},
   "source": [
    "#### Label Encoding for Gender and Department to convert them into Numerical values"
   ]
  },
  {
   "cell_type": "code",
   "execution_count": 17,
   "id": "5ef36bc5",
   "metadata": {},
   "outputs": [],
   "source": [
    "from sklearn.preprocessing import LabelEncoder\n",
    "\n",
    "le = LabelEncoder()\n",
    "data1['department'] = le.fit_transform(data1['department'])\n",
    "test1['department'] = le.fit_transform(test1['department'])\n",
    "data1['gender'] = le.fit_transform(data1['gender'])\n",
    "test1['gender'] = le.fit_transform(test1['gender'])"
   ]
  },
  {
   "cell_type": "markdown",
   "id": "284ff882",
   "metadata": {},
   "source": [
    "#### Checking on availability of categorical columns after encoding\n"
   ]
  },
  {
   "cell_type": "code",
   "execution_count": 18,
   "id": "6733bc1d",
   "metadata": {},
   "outputs": [
    {
     "name": "stdout",
     "output_type": "stream",
     "text": [
      "Index([], dtype='object')\n",
      "Index([], dtype='object')\n"
     ]
    }
   ],
   "source": [
    "print(data1.select_dtypes('object').columns)\n",
    "print(test1.select_dtypes('object').columns)"
   ]
  },
  {
   "cell_type": "markdown",
   "id": "1150314a",
   "metadata": {},
   "source": [
    "## Balancing the data "
   ]
  },
  {
   "cell_type": "code",
   "execution_count": 19,
   "id": "5e53d0f0",
   "metadata": {},
   "outputs": [
    {
     "data": {
      "text/plain": [
       "Text(0, 0.5, 'Frequency')"
      ]
     },
     "execution_count": 19,
     "metadata": {},
     "output_type": "execute_result"
    },
    {
     "data": {
      "image/png": "[encoded data removed]",
      "text/plain": [
       "<Figure size 432x288 with 1 Axes>"
      ]
     },
     "metadata": {
      "needs_background": "light"
     },
     "output_type": "display_data"
    }
   ],
   "source": [
    "count_classes = pd.value_counts(data['is_promoted'], sort = True)\n",
    "count_classes.plot(kind = 'bar', rot=1)\n",
    "plt.title(\"Transaction Class Distribution\")\n",
    "plt.xlabel(\"Class\")\n",
    "plt.ylabel(\"Frequency\")"
   ]
  },
  {
   "cell_type": "code",
   "execution_count": 20,
   "id": "ec372b14",
   "metadata": {},
   "outputs": [],
   "source": [
    "x = data.drop('is_promoted',axis=1)\n",
    "y = data.loc[:,'is_promoted']"
   ]
  },
  {
   "cell_type": "markdown",
   "id": "760c65fd",
   "metadata": {},
   "source": [
    "#### Using RandomOverSampler to handle the imbalanced data  "
   ]
  },
  {
   "cell_type": "code",
   "execution_count": 21,
   "id": "80ecfa42",
   "metadata": {},
   "outputs": [],
   "source": [
    "from imblearn.over_sampling import RandomOverSampler"
   ]
  },
  {
   "cell_type": "code",
   "execution_count": 22,
   "id": "9dd3d8fd",
   "metadata": {},
   "outputs": [],
   "source": [
    "os =  RandomOverSampler(sampling_strategy=0.8)\n",
    "x_train_res, y_train_res = os.fit_sample(x, y)"
   ]
  },
  {
   "cell_type": "code",
   "execution_count": 23,
   "id": "87ff0558",
   "metadata": {},
   "outputs": [
    {
     "data": {
      "text/plain": [
       "((90252, 13), (90252,))"
      ]
     },
     "execution_count": 23,
     "metadata": {},
     "output_type": "execute_result"
    }
   ],
   "source": [
    "x_train_res.shape,y_train_res.shape"
   ]
  },
  {
   "cell_type": "code",
   "execution_count": 24,
   "id": "2f258693",
   "metadata": {},
   "outputs": [
    {
     "name": "stdout",
     "output_type": "stream",
     "text": [
      "Original dataset shape Counter({0: 50140, 1: 4668})\n",
      "Resampled dataset shape Counter({0: 50140, 1: 40112})\n"
     ]
    }
   ],
   "source": [
    "print('Original dataset shape {}'.format(Counter(y)))\n",
    "print('Resampled dataset shape {}'.format(Counter(y_train_res)))"
   ]
  },
  {
   "cell_type": "markdown",
   "id": "450ce600",
   "metadata": {},
   "source": [
    "#### Split the target data from the train data"
   ]
  },
  {
   "cell_type": "code",
   "execution_count": 25,
   "id": "e72d6d8c",
   "metadata": {},
   "outputs": [],
   "source": [
    "y = data1['is_promoted']\n",
    "x = data1.drop(['is_promoted'], axis = 1)\n",
    "x_test = test1"
   ]
  },
  {
   "cell_type": "markdown",
   "id": "dfb3cf0b",
   "metadata": {},
   "source": [
    "#### Print the shapes of the new data sets"
   ]
  },
  {
   "cell_type": "code",
   "execution_count": 26,
   "id": "c9570951",
   "metadata": {},
   "outputs": [
    {
     "name": "stdout",
     "output_type": "stream",
     "text": [
      "Shape of the x : (54808, 12)\n",
      "Shape of the y : (54808,)\n",
      "Shape of the x Test : (23490, 12)\n"
     ]
    }
   ],
   "source": [
    "print(\"Shape of the x :\", x.shape)\n",
    "print(\"Shape of the y :\", y.shape)\n",
    "print(\"Shape of the x Test :\", x_test.shape)"
   ]
  },
  {
   "cell_type": "code",
   "execution_count": 27,
   "id": "e629b655",
   "metadata": {},
   "outputs": [],
   "source": [
    "from sklearn.model_selection import train_test_split\n",
    "\n",
    "x_train, x_valid, y_train, y_valid = train_test_split(x, y, test_size = 0.2, random_state = 0)"
   ]
  },
  {
   "cell_type": "code",
   "execution_count": 28,
   "id": "f3fcfd92",
   "metadata": {},
   "outputs": [],
   "source": [
    "from sklearn.preprocessing import StandardScaler\n",
    "\n",
    "sc = StandardScaler()\n",
    "x_train = sc.fit_transform(x_train)\n",
    "x_valid = sc.transform(x_valid)\n",
    "x_test = sc.transform(x_test)"
   ]
  },
  {
   "cell_type": "code",
   "execution_count": 29,
   "id": "e0ea219f",
   "metadata": {},
   "outputs": [],
   "source": [
    "from sklearn.tree import DecisionTreeClassifier\n",
    "\n",
    "model = DecisionTreeClassifier()\n",
    "model.fit(x_train, y_train)\n",
    "\n",
    "y_pred = model.predict(x_valid)"
   ]
  },
  {
   "cell_type": "code",
   "execution_count": 30,
   "id": "2e064e56",
   "metadata": {},
   "outputs": [],
   "source": [
    "from sklearn.metrics import classification_report,confusion_matrix,accuracy_score, precision_score,recall_score, f1_score"
   ]
  },
  {
   "cell_type": "code",
   "execution_count": 31,
   "id": "8222fc90",
   "metadata": {},
   "outputs": [
    {
     "name": "stdout",
     "output_type": "stream",
     "text": [
      "Accuracy Score is: 0.9058565955117679\n",
      "Recall Score is: 0.43213897937024975\n",
      "Precision Score: 0.4388092613009923\n",
      "F1 score is: 0.4354485776805252\n"
     ]
    }
   ],
   "source": [
    "print('Accuracy Score is:', accuracy_score(y_valid, y_pred))\n",
    "print('Recall Score is:', recall_score(y_valid, y_pred))\n",
    "print('Precision Score:', precision_score(y_valid, y_pred))\n",
    "print('F1 score is:', f1_score(y_valid, y_pred))"
   ]
  },
  {
   "cell_type": "code",
   "execution_count": 32,
   "id": "e65e1cee",
   "metadata": {},
   "outputs": [],
   "source": [
    "from sklearn.svm import SVC\n",
    "svm=SVC(random_state=1)\n",
    "svm.fit(x_train,y_train)\n",
    "y_pred1 = model.predict(x_valid)"
   ]
  },
  {
   "cell_type": "code",
   "execution_count": 33,
   "id": "673a43ad",
   "metadata": {},
   "outputs": [
    {
     "name": "stdout",
     "output_type": "stream",
     "text": [
      "Accuracy Score is: 0.9058565955117679\n",
      "Recall Score is: 0.43213897937024975\n",
      "Precision Score: 0.4388092613009923\n",
      "F1 score is: 0.4354485776805252\n"
     ]
    }
   ],
   "source": [
    "print('Accuracy Score is:', accuracy_score(y_valid, y_pred1))\n",
    "print('Recall Score is:', recall_score(y_valid, y_pred1))\n",
    "print('Precision Score:', precision_score(y_valid, y_pred1))\n",
    "print('F1 score is:', f1_score(y_valid, y_pred1))"
   ]
  },
  {
   "cell_type": "code",
   "execution_count": 34,
   "id": "7af0d8cd",
   "metadata": {},
   "outputs": [
    {
     "name": "stdout",
     "output_type": "stream",
     "text": [
      "              precision    recall  f1-score   support\n",
      "\n",
      "           0       0.95      0.95      0.95     10041\n",
      "           1       0.44      0.43      0.44       921\n",
      "\n",
      "    accuracy                           0.91     10962\n",
      "   macro avg       0.69      0.69      0.69     10962\n",
      "weighted avg       0.91      0.91      0.91     10962\n",
      "\n"
     ]
    }
   ],
   "source": [
    "class_names=np.array(['0','1'])\n",
    "print(classification_report(y_valid, y_pred1, target_names=class_names))"
   ]
  },
  {
   "cell_type": "code",
   "execution_count": 35,
   "id": "a04b001b",
   "metadata": {},
   "outputs": [],
   "source": [
    "from sklearn.model_selection import cross_val_score"
   ]
  },
  {
   "cell_type": "markdown",
   "id": "f80b1873",
   "metadata": {},
   "source": [
    "#### Plotting the value of K for KNN (x-axis) versus the cross-validated accuracy (y-axis)"
   ]
  },
  {
   "cell_type": "code",
   "execution_count": 36,
   "id": "8250fec2",
   "metadata": {},
   "outputs": [
    {
     "name": "stdout",
     "output_type": "stream",
     "text": [
      "[0.92775041 0.92610837 0.9231892  0.92866265 0.92209451 0.92793286\n",
      " 0.92410144 0.92592593 0.92956204 0.92536496]\n"
     ]
    }
   ],
   "source": [
    "knn = KNeighborsClassifier(n_neighbors=5)\n",
    "scores = cross_val_score(knn, x, y, cv=10, scoring='accuracy')\n",
    "print(scores)"
   ]
  },
  {
   "cell_type": "code",
   "execution_count": 37,
   "id": "bab43dfb",
   "metadata": {},
   "outputs": [
    {
     "name": "stdout",
     "output_type": "stream",
     "text": [
      "0.9260692378581883\n"
     ]
    }
   ],
   "source": [
    "print(scores.mean())"
   ]
  },
  {
   "cell_type": "markdown",
   "id": "a657fc20",
   "metadata": {},
   "source": [
    "## Model selection using Cross Validation "
   ]
  },
  {
   "cell_type": "markdown",
   "id": "c74ca7ea",
   "metadata": {},
   "source": [
    "#### 10-fold cross-validation with logistic regression\n",
    " "
   ]
  },
  {
   "cell_type": "code",
   "execution_count": 38,
   "id": "7d8eddfb",
   "metadata": {},
   "outputs": [
    {
     "name": "stdout",
     "output_type": "stream",
     "text": [
      "0.915340845681898\n"
     ]
    }
   ],
   "source": [
    "from sklearn.linear_model import LogisticRegression\n",
    "logreg = LogisticRegression()\n",
    "print(cross_val_score(logreg, x, y, cv=10, scoring='accuracy').mean())"
   ]
  },
  {
   "cell_type": "markdown",
   "id": "d4dcd8d9",
   "metadata": {},
   "source": [
    "#### 10-fold cross-validation with Decision Tree\n",
    " "
   ]
  },
  {
   "cell_type": "code",
   "execution_count": 39,
   "id": "8a315db9",
   "metadata": {},
   "outputs": [
    {
     "name": "stdout",
     "output_type": "stream",
     "text": [
      "0.8994672105495163\n"
     ]
    }
   ],
   "source": [
    "from sklearn.tree import DecisionTreeClassifier\n",
    "DTC = DecisionTreeClassifier()\n",
    "print(cross_val_score(DTC, x, y, cv=10, scoring='accuracy').mean())"
   ]
  },
  {
   "cell_type": "markdown",
   "id": "3691d6f2",
   "metadata": {},
   "source": [
    "#### 10-fold cross-validation with Random Forest"
   ]
  },
  {
   "cell_type": "code",
   "execution_count": 40,
   "id": "eb5a4116",
   "metadata": {},
   "outputs": [
    {
     "name": "stdout",
     "output_type": "stream",
     "text": [
      "0.9292803906527792\n"
     ]
    }
   ],
   "source": [
    "from sklearn.ensemble import RandomForestClassifier\n",
    "RFC = RandomForestClassifier(n_estimators = 100)\n",
    "print(cross_val_score(RFC, x, y, cv=10, scoring='accuracy').mean())"
   ]
  },
  {
   "cell_type": "code",
   "execution_count": 41,
   "id": "6e8fc5d4",
   "metadata": {},
   "outputs": [
    {
     "name": "stdout",
     "output_type": "stream",
     "text": [
      "Accuracy Score is: 0.9191753329684365\n",
      "Recall Score is: 0.08577633007600434\n",
      "Precision Score: 0.6422764227642277\n",
      "F1 score is: 0.15134099616858238\n"
     ]
    }
   ],
   "source": [
    "from sklearn.linear_model import LogisticRegression\n",
    "Logit_model= LogisticRegression()\n",
    "Logit_model.fit(x_train, y_train)\n",
    "y_pred2= Logit_model.predict(x_valid)\n",
    "print('Accuracy Score is:', accuracy_score(y_valid, y_pred2))\n",
    "print('Recall Score is:', recall_score(y_valid, y_pred2))\n",
    "print('Precision Score:', precision_score(y_valid, y_pred2))\n",
    "print('F1 score is:', f1_score(y_valid, y_pred2))"
   ]
  },
  {
   "cell_type": "code",
   "execution_count": 42,
   "id": "df2ec1c3",
   "metadata": {},
   "outputs": [
    {
     "name": "stdout",
     "output_type": "stream",
     "text": [
      "              precision    recall  f1-score   support\n",
      "\n",
      "           0       0.92      1.00      0.96     10041\n",
      "           1       0.64      0.09      0.15       921\n",
      "\n",
      "    accuracy                           0.92     10962\n",
      "   macro avg       0.78      0.54      0.55     10962\n",
      "weighted avg       0.90      0.92      0.89     10962\n",
      "\n"
     ]
    }
   ],
   "source": [
    "class_names=np.array(['0','1'])\n",
    "print(classification_report(y_valid, y_pred2, target_names=class_names))"
   ]
  },
  {
   "cell_type": "code",
   "execution_count": 43,
   "id": "c5be5893",
   "metadata": {},
   "outputs": [
    {
     "data": {
      "text/plain": [
       "RandomForestClassifier(min_samples_split=10, n_estimators=700, n_jobs=-1,\n",
       "                       oob_score=True, random_state=1)"
      ]
     },
     "execution_count": 43,
     "metadata": {},
     "output_type": "execute_result"
    }
   ],
   "source": [
    "from sklearn.ensemble import RandomForestClassifier\n",
    "\n",
    "rf = RandomForestClassifier(criterion='gini', \n",
    "                             n_estimators=700,\n",
    "                             min_samples_split=10,\n",
    "                             min_samples_leaf=1,\n",
    "                             max_features='auto',\n",
    "                             oob_score=True,\n",
    "                             random_state=1,\n",
    "                             n_jobs=-1)\n",
    "rf.fit(x_train,y_train)"
   ]
  },
  {
   "cell_type": "code",
   "execution_count": 44,
   "id": "a81c0579",
   "metadata": {},
   "outputs": [
    {
     "name": "stdout",
     "output_type": "stream",
     "text": [
      "Accuracy Score is: 0.940156905674147\n",
      "Recall Score is: 0.32356134636264927\n",
      "Precision Score: 0.9003021148036254\n",
      "F1 score is: 0.476038338658147\n"
     ]
    }
   ],
   "source": [
    "y_pred3= rf.predict(x_valid)\n",
    "print('Accuracy Score is:', accuracy_score(y_valid, y_pred3))\n",
    "print('Recall Score is:', recall_score(y_valid, y_pred3))\n",
    "print('Precision Score:', precision_score(y_valid, y_pred3))\n",
    "print('F1 score is:', f1_score(y_valid, y_pred3))"
   ]
  },
  {
   "cell_type": "code",
   "execution_count": 45,
   "id": "b15fe2ef",
   "metadata": {},
   "outputs": [],
   "source": [
    "y_pred3= rf.predict(x_test)"
   ]
  },
  {
   "cell_type": "code",
   "execution_count": 46,
   "id": "9fe42024",
   "metadata": {},
   "outputs": [],
   "source": [
    "test['is_promoted']= y_pred3"
   ]
  },
  {
   "cell_type": "code",
   "execution_count": 47,
   "id": "c9febab0",
   "metadata": {},
   "outputs": [
    {
     "data": {
      "text/html": [
       "<div>\n",
       "<style scoped>\n",
       "    .dataframe tbody tr th:only-of-type {\n",
       "        vertical-align: middle;\n",
       "    }\n",
       "\n",
       "    .dataframe tbody tr th {\n",
       "        vertical-align: top;\n",
       "    }\n",
       "\n",
       "    .dataframe thead th {\n",
       "        text-align: right;\n",
       "    }\n",
       "</style>\n",
       "<table border=\"1\" class=\"dataframe\">\n",
       "  <thead>\n",
       "    <tr style=\"text-align: right;\">\n",
       "      <th></th>\n",
       "      <th>employee_id</th>\n",
       "      <th>department</th>\n",
       "      <th>region</th>\n",
       "      <th>education</th>\n",
       "      <th>gender</th>\n",
       "      <th>recruitment_channel</th>\n",
       "      <th>no_of_trainings</th>\n",
       "      <th>age</th>\n",
       "      <th>previous_year_rating</th>\n",
       "      <th>length_of_service</th>\n",
       "      <th>KPIs_met &gt;80%</th>\n",
       "      <th>awards_won?</th>\n",
       "      <th>avg_training_score</th>\n",
       "      <th>is_promoted</th>\n",
       "    </tr>\n",
       "  </thead>\n",
       "  <tbody>\n",
       "    <tr>\n",
       "      <th>0</th>\n",
       "      <td>8724</td>\n",
       "      <td>Technology</td>\n",
       "      <td>region_26</td>\n",
       "      <td>Bachelor's</td>\n",
       "      <td>m</td>\n",
       "      <td>sourcing</td>\n",
       "      <td>1</td>\n",
       "      <td>24</td>\n",
       "      <td>3.0</td>\n",
       "      <td>1</td>\n",
       "      <td>1</td>\n",
       "      <td>0</td>\n",
       "      <td>77</td>\n",
       "      <td>0</td>\n",
       "    </tr>\n",
       "    <tr>\n",
       "      <th>1</th>\n",
       "      <td>74430</td>\n",
       "      <td>HR</td>\n",
       "      <td>region_4</td>\n",
       "      <td>Bachelor's</td>\n",
       "      <td>f</td>\n",
       "      <td>other</td>\n",
       "      <td>1</td>\n",
       "      <td>31</td>\n",
       "      <td>3.0</td>\n",
       "      <td>5</td>\n",
       "      <td>0</td>\n",
       "      <td>0</td>\n",
       "      <td>51</td>\n",
       "      <td>0</td>\n",
       "    </tr>\n",
       "    <tr>\n",
       "      <th>2</th>\n",
       "      <td>72255</td>\n",
       "      <td>Sales &amp; Marketing</td>\n",
       "      <td>region_13</td>\n",
       "      <td>Bachelor's</td>\n",
       "      <td>m</td>\n",
       "      <td>other</td>\n",
       "      <td>1</td>\n",
       "      <td>31</td>\n",
       "      <td>1.0</td>\n",
       "      <td>4</td>\n",
       "      <td>0</td>\n",
       "      <td>0</td>\n",
       "      <td>47</td>\n",
       "      <td>0</td>\n",
       "    </tr>\n",
       "    <tr>\n",
       "      <th>3</th>\n",
       "      <td>38562</td>\n",
       "      <td>Procurement</td>\n",
       "      <td>region_2</td>\n",
       "      <td>Bachelor's</td>\n",
       "      <td>f</td>\n",
       "      <td>other</td>\n",
       "      <td>3</td>\n",
       "      <td>31</td>\n",
       "      <td>2.0</td>\n",
       "      <td>9</td>\n",
       "      <td>0</td>\n",
       "      <td>0</td>\n",
       "      <td>65</td>\n",
       "      <td>0</td>\n",
       "    </tr>\n",
       "    <tr>\n",
       "      <th>4</th>\n",
       "      <td>64486</td>\n",
       "      <td>Finance</td>\n",
       "      <td>region_29</td>\n",
       "      <td>Bachelor's</td>\n",
       "      <td>m</td>\n",
       "      <td>sourcing</td>\n",
       "      <td>1</td>\n",
       "      <td>30</td>\n",
       "      <td>4.0</td>\n",
       "      <td>7</td>\n",
       "      <td>0</td>\n",
       "      <td>0</td>\n",
       "      <td>61</td>\n",
       "      <td>0</td>\n",
       "    </tr>\n",
       "    <tr>\n",
       "      <th>...</th>\n",
       "      <td>...</td>\n",
       "      <td>...</td>\n",
       "      <td>...</td>\n",
       "      <td>...</td>\n",
       "      <td>...</td>\n",
       "      <td>...</td>\n",
       "      <td>...</td>\n",
       "      <td>...</td>\n",
       "      <td>...</td>\n",
       "      <td>...</td>\n",
       "      <td>...</td>\n",
       "      <td>...</td>\n",
       "      <td>...</td>\n",
       "      <td>...</td>\n",
       "    </tr>\n",
       "    <tr>\n",
       "      <th>23485</th>\n",
       "      <td>53478</td>\n",
       "      <td>Legal</td>\n",
       "      <td>region_2</td>\n",
       "      <td>Below Secondary</td>\n",
       "      <td>m</td>\n",
       "      <td>sourcing</td>\n",
       "      <td>1</td>\n",
       "      <td>24</td>\n",
       "      <td>3.0</td>\n",
       "      <td>1</td>\n",
       "      <td>0</td>\n",
       "      <td>0</td>\n",
       "      <td>61</td>\n",
       "      <td>0</td>\n",
       "    </tr>\n",
       "    <tr>\n",
       "      <th>23486</th>\n",
       "      <td>25600</td>\n",
       "      <td>Technology</td>\n",
       "      <td>region_25</td>\n",
       "      <td>Bachelor's</td>\n",
       "      <td>m</td>\n",
       "      <td>sourcing</td>\n",
       "      <td>1</td>\n",
       "      <td>31</td>\n",
       "      <td>3.0</td>\n",
       "      <td>7</td>\n",
       "      <td>0</td>\n",
       "      <td>0</td>\n",
       "      <td>74</td>\n",
       "      <td>0</td>\n",
       "    </tr>\n",
       "    <tr>\n",
       "      <th>23487</th>\n",
       "      <td>45409</td>\n",
       "      <td>HR</td>\n",
       "      <td>region_16</td>\n",
       "      <td>Bachelor's</td>\n",
       "      <td>f</td>\n",
       "      <td>sourcing</td>\n",
       "      <td>1</td>\n",
       "      <td>26</td>\n",
       "      <td>4.0</td>\n",
       "      <td>4</td>\n",
       "      <td>0</td>\n",
       "      <td>0</td>\n",
       "      <td>50</td>\n",
       "      <td>0</td>\n",
       "    </tr>\n",
       "    <tr>\n",
       "      <th>23488</th>\n",
       "      <td>1186</td>\n",
       "      <td>Procurement</td>\n",
       "      <td>region_31</td>\n",
       "      <td>Bachelor's</td>\n",
       "      <td>m</td>\n",
       "      <td>sourcing</td>\n",
       "      <td>3</td>\n",
       "      <td>27</td>\n",
       "      <td>3.0</td>\n",
       "      <td>1</td>\n",
       "      <td>0</td>\n",
       "      <td>0</td>\n",
       "      <td>70</td>\n",
       "      <td>0</td>\n",
       "    </tr>\n",
       "    <tr>\n",
       "      <th>23489</th>\n",
       "      <td>5973</td>\n",
       "      <td>Technology</td>\n",
       "      <td>region_17</td>\n",
       "      <td>Master's &amp; above</td>\n",
       "      <td>m</td>\n",
       "      <td>other</td>\n",
       "      <td>3</td>\n",
       "      <td>40</td>\n",
       "      <td>5.0</td>\n",
       "      <td>5</td>\n",
       "      <td>1</td>\n",
       "      <td>0</td>\n",
       "      <td>89</td>\n",
       "      <td>1</td>\n",
       "    </tr>\n",
       "  </tbody>\n",
       "</table>\n",
       "<p>23490 rows × 14 columns</p>\n",
       "</div>"
      ],
      "text/plain": [
       "       employee_id         department     region         education gender  \\\n",
       "0             8724         Technology  region_26        Bachelor's      m   \n",
       "1            74430                 HR   region_4        Bachelor's      f   \n",
       "2            72255  Sales & Marketing  region_13        Bachelor's      m   \n",
       "3            38562        Procurement   region_2        Bachelor's      f   \n",
       "4            64486            Finance  region_29        Bachelor's      m   \n",
       "...            ...                ...        ...               ...    ...   \n",
       "23485        53478              Legal   region_2   Below Secondary      m   \n",
       "23486        25600         Technology  region_25        Bachelor's      m   \n",
       "23487        45409                 HR  region_16        Bachelor's      f   \n",
       "23488         1186        Procurement  region_31        Bachelor's      m   \n",
       "23489         5973         Technology  region_17  Master's & above      m   \n",
       "\n",
       "      recruitment_channel  no_of_trainings  age  previous_year_rating  \\\n",
       "0                sourcing                1   24                   3.0   \n",
       "1                   other                1   31                   3.0   \n",
       "2                   other                1   31                   1.0   \n",
       "3                   other                3   31                   2.0   \n",
       "4                sourcing                1   30                   4.0   \n",
       "...                   ...              ...  ...                   ...   \n",
       "23485            sourcing                1   24                   3.0   \n",
       "23486            sourcing                1   31                   3.0   \n",
       "23487            sourcing                1   26                   4.0   \n",
       "23488            sourcing                3   27                   3.0   \n",
       "23489               other                3   40                   5.0   \n",
       "\n",
       "       length_of_service  KPIs_met >80%  awards_won?  avg_training_score  \\\n",
       "0                      1              1            0                  77   \n",
       "1                      5              0            0                  51   \n",
       "2                      4              0            0                  47   \n",
       "3                      9              0            0                  65   \n",
       "4                      7              0            0                  61   \n",
       "...                  ...            ...          ...                 ...   \n",
       "23485                  1              0            0                  61   \n",
       "23486                  7              0            0                  74   \n",
       "23487                  4              0            0                  50   \n",
       "23488                  1              0            0                  70   \n",
       "23489                  5              1            0                  89   \n",
       "\n",
       "       is_promoted  \n",
       "0                0  \n",
       "1                0  \n",
       "2                0  \n",
       "3                0  \n",
       "4                0  \n",
       "...            ...  \n",
       "23485            0  \n",
       "23486            0  \n",
       "23487            0  \n",
       "23488            0  \n",
       "23489            1  \n",
       "\n",
       "[23490 rows x 14 columns]"
      ]
     },
     "execution_count": 47,
     "metadata": {},
     "output_type": "execute_result"
    }
   ],
   "source": [
    "test"
   ]
  },
  {
   "cell_type": "code",
   "execution_count": 48,
   "id": "4b4a67b3",
   "metadata": {},
   "outputs": [],
   "source": [
    "output=pd.DataFrame(data={\"employee_id\":test[\"employee_id\"],\"is_promoted\":test['is_promoted']}) \n",
    "output.to_csv(path_or_buf=r\"Desktop\\HR_Analytics_Vidhya_Comp\\output.csv\",index=False,quoting=3,)"
   ]
  },
  {
   "cell_type": "code",
   "execution_count": null,
   "id": "b9995de2",
   "metadata": {},
   "outputs": [],
   "source": []
  }
 ],
 "metadata": {
  "kernelspec": {
   "display_name": "Python 3",
   "language": "python",
   "name": "python3"
  },
  "language_info": {
   "codemirror_mode": {
    "name": "ipython",
    "version": 3
   },
   "file_extension": ".py",
   "mimetype": "text/x-python",
   "name": "python",
   "nbconvert_exporter": "python",
   "pygments_lexer": "ipython3",
   "version": "3.8.8"
  }
 },
 "nbformat": 4,
 "nbformat_minor": 5
}
